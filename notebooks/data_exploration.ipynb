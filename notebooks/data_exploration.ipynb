{
 "cells": [
  {
   "cell_type": "code",
   "execution_count": 76,
   "metadata": {},
   "outputs": [],
   "source": [
    "import pandas as pd\n",
    "import os"
   ]
  },
  {
   "cell_type": "markdown",
   "metadata": {},
   "source": [
    "**Load Datasets**"
   ]
  },
  {
   "cell_type": "code",
   "execution_count": 77,
   "metadata": {},
   "outputs": [],
   "source": [
    "parquet_directory = '/Users/fionachow/Documents/NYU/CDS/Fall 2024/DS - GA 1018 Probabilistic Time Series/Project/electricity_demand_forecasting/data/'\n",
    "\n",
    "parquet_files = [f for f in os.listdir(parquet_directory) if f.endswith('.parquet')]\n",
    "\n",
    "dfs = {}\n",
    "\n",
    "for file in parquet_files:\n",
    "    file_path = os.path.join(parquet_directory, file)\n",
    "    dfs[file] = pd.read_parquet(file_path)"
   ]
  },
  {
   "cell_type": "code",
   "execution_count": 78,
   "metadata": {},
   "outputs": [
    {
     "data": {
      "text/plain": [
       "dict_keys(['weather.parquet', 'demand.parquet', 'metadata.parquet'])"
      ]
     },
     "execution_count": 78,
     "metadata": {},
     "output_type": "execute_result"
    }
   ],
   "source": [
    "dfs.keys()"
   ]
  },
  {
   "cell_type": "markdown",
   "metadata": {},
   "source": [
    "**Explore Metadata Dataset**"
   ]
  },
  {
   "cell_type": "code",
   "execution_count": 79,
   "metadata": {},
   "outputs": [
    {
     "data": {
      "text/html": [
       "<div>\n",
       "<style scoped>\n",
       "    .dataframe tbody tr th:only-of-type {\n",
       "        vertical-align: middle;\n",
       "    }\n",
       "\n",
       "    .dataframe tbody tr th {\n",
       "        vertical-align: top;\n",
       "    }\n",
       "\n",
       "    .dataframe thead th {\n",
       "        text-align: right;\n",
       "    }\n",
       "</style>\n",
       "<table border=\"1\" class=\"dataframe\">\n",
       "  <thead>\n",
       "    <tr style=\"text-align: right;\">\n",
       "      <th></th>\n",
       "      <th>unique_id</th>\n",
       "      <th>dataset</th>\n",
       "      <th>building_id</th>\n",
       "      <th>location_id</th>\n",
       "      <th>latitude</th>\n",
       "      <th>longitude</th>\n",
       "      <th>location</th>\n",
       "      <th>timezone</th>\n",
       "      <th>building_class</th>\n",
       "      <th>cluster_size</th>\n",
       "      <th>freq</th>\n",
       "    </tr>\n",
       "  </thead>\n",
       "  <tbody>\n",
       "    <tr>\n",
       "      <th>0</th>\n",
       "      <td>a4077c2f0ac5f939</td>\n",
       "      <td>London Smart Meter Data</td>\n",
       "      <td>MAC000002</td>\n",
       "      <td>gcpvj4cmfb0f</td>\n",
       "      <td>51.52</td>\n",
       "      <td>-0.13</td>\n",
       "      <td>London, UK</td>\n",
       "      <td>Europe/London</td>\n",
       "      <td>Residential</td>\n",
       "      <td>1</td>\n",
       "      <td>30T</td>\n",
       "    </tr>\n",
       "    <tr>\n",
       "      <th>1</th>\n",
       "      <td>c413415b78b2cd28</td>\n",
       "      <td>London Smart Meter Data</td>\n",
       "      <td>MAC000003</td>\n",
       "      <td>gcpvj4cmfb0f</td>\n",
       "      <td>51.52</td>\n",
       "      <td>-0.13</td>\n",
       "      <td>London, UK</td>\n",
       "      <td>Europe/London</td>\n",
       "      <td>Residential</td>\n",
       "      <td>1</td>\n",
       "      <td>30T</td>\n",
       "    </tr>\n",
       "    <tr>\n",
       "      <th>2</th>\n",
       "      <td>4ef97f530574813a</td>\n",
       "      <td>London Smart Meter Data</td>\n",
       "      <td>MAC000004</td>\n",
       "      <td>gcpvj4cmfb0f</td>\n",
       "      <td>51.52</td>\n",
       "      <td>-0.13</td>\n",
       "      <td>London, UK</td>\n",
       "      <td>Europe/London</td>\n",
       "      <td>Residential</td>\n",
       "      <td>1</td>\n",
       "      <td>30T</td>\n",
       "    </tr>\n",
       "    <tr>\n",
       "      <th>3</th>\n",
       "      <td>0c9e78f7ca4842c2</td>\n",
       "      <td>London Smart Meter Data</td>\n",
       "      <td>MAC000005</td>\n",
       "      <td>gcpvj4cmfb0f</td>\n",
       "      <td>51.52</td>\n",
       "      <td>-0.13</td>\n",
       "      <td>London, UK</td>\n",
       "      <td>Europe/London</td>\n",
       "      <td>Residential</td>\n",
       "      <td>1</td>\n",
       "      <td>30T</td>\n",
       "    </tr>\n",
       "    <tr>\n",
       "      <th>4</th>\n",
       "      <td>e881429cbec2cf4d</td>\n",
       "      <td>London Smart Meter Data</td>\n",
       "      <td>MAC000006</td>\n",
       "      <td>gcpvj4cmfb0f</td>\n",
       "      <td>51.52</td>\n",
       "      <td>-0.13</td>\n",
       "      <td>London, UK</td>\n",
       "      <td>Europe/London</td>\n",
       "      <td>Residential</td>\n",
       "      <td>1</td>\n",
       "      <td>30T</td>\n",
       "    </tr>\n",
       "  </tbody>\n",
       "</table>\n",
       "</div>"
      ],
      "text/plain": [
       "          unique_id                  dataset building_id   location_id  \\\n",
       "0  a4077c2f0ac5f939  London Smart Meter Data   MAC000002  gcpvj4cmfb0f   \n",
       "1  c413415b78b2cd28  London Smart Meter Data   MAC000003  gcpvj4cmfb0f   \n",
       "2  4ef97f530574813a  London Smart Meter Data   MAC000004  gcpvj4cmfb0f   \n",
       "3  0c9e78f7ca4842c2  London Smart Meter Data   MAC000005  gcpvj4cmfb0f   \n",
       "4  e881429cbec2cf4d  London Smart Meter Data   MAC000006  gcpvj4cmfb0f   \n",
       "\n",
       "   latitude  longitude    location       timezone building_class  \\\n",
       "0     51.52      -0.13  London, UK  Europe/London    Residential   \n",
       "1     51.52      -0.13  London, UK  Europe/London    Residential   \n",
       "2     51.52      -0.13  London, UK  Europe/London    Residential   \n",
       "3     51.52      -0.13  London, UK  Europe/London    Residential   \n",
       "4     51.52      -0.13  London, UK  Europe/London    Residential   \n",
       "\n",
       "   cluster_size freq  \n",
       "0             1  30T  \n",
       "1             1  30T  \n",
       "2             1  30T  \n",
       "3             1  30T  \n",
       "4             1  30T  "
      ]
     },
     "metadata": {},
     "output_type": "display_data"
    }
   ],
   "source": [
    "display(dfs['metadata.parquet'].head())"
   ]
  },
  {
   "cell_type": "code",
   "execution_count": 89,
   "metadata": {},
   "outputs": [
    {
     "data": {
      "text/plain": [
       "unique_id         category\n",
       "dataset           category\n",
       "building_id       category\n",
       "location_id       category\n",
       "latitude           float64\n",
       "longitude          float64\n",
       "location          category\n",
       "timezone          category\n",
       "building_class    category\n",
       "cluster_size         int64\n",
       "freq              category\n",
       "dtype: object"
      ]
     },
     "execution_count": 89,
     "metadata": {},
     "output_type": "execute_result"
    }
   ],
   "source": [
    "dfs['metadata.parquet'].dtypes"
   ]
  },
  {
   "cell_type": "code",
   "execution_count": 80,
   "metadata": {},
   "outputs": [
    {
     "data": {
      "text/html": [
       "<div>\n",
       "<style scoped>\n",
       "    .dataframe tbody tr th:only-of-type {\n",
       "        vertical-align: middle;\n",
       "    }\n",
       "\n",
       "    .dataframe tbody tr th {\n",
       "        vertical-align: top;\n",
       "    }\n",
       "\n",
       "    .dataframe thead th {\n",
       "        text-align: right;\n",
       "    }\n",
       "</style>\n",
       "<table border=\"1\" class=\"dataframe\">\n",
       "  <thead>\n",
       "    <tr style=\"text-align: right;\">\n",
       "      <th></th>\n",
       "      <th>freq</th>\n",
       "      <th>building_class</th>\n",
       "    </tr>\n",
       "    <tr>\n",
       "      <th>dataset</th>\n",
       "      <th></th>\n",
       "      <th></th>\n",
       "    </tr>\n",
       "  </thead>\n",
       "  <tbody>\n",
       "    <tr>\n",
       "      <th>Building Data Genome 2</th>\n",
       "      <td>1H</td>\n",
       "      <td>Commercial</td>\n",
       "    </tr>\n",
       "    <tr>\n",
       "      <th>Electricity Load Diagrams</th>\n",
       "      <td>15T</td>\n",
       "      <td>Residential</td>\n",
       "    </tr>\n",
       "    <tr>\n",
       "      <th>London Smart Meter Data</th>\n",
       "      <td>30T</td>\n",
       "      <td>Residential</td>\n",
       "    </tr>\n",
       "  </tbody>\n",
       "</table>\n",
       "</div>"
      ],
      "text/plain": [
       "                          freq building_class\n",
       "dataset                                      \n",
       "Building Data Genome 2      1H     Commercial\n",
       "Electricity Load Diagrams  15T    Residential\n",
       "London Smart Meter Data    30T    Residential"
      ]
     },
     "execution_count": 80,
     "metadata": {},
     "output_type": "execute_result"
    }
   ],
   "source": [
    "df_metadata = dfs['metadata.parquet'][['dataset', 'freq', 'building_class','location']]\n",
    "\n",
    "table_metadata = df_metadata.groupby('dataset')[['freq', 'building_class']].agg(lambda x: ', '.join(set(x)))\n",
    "\n",
    "table_metadata"
   ]
  },
  {
   "cell_type": "code",
   "execution_count": 98,
   "metadata": {},
   "outputs": [
    {
     "data": {
      "text/plain": [
       "array(['London, UK'], dtype=object)"
      ]
     },
     "metadata": {},
     "output_type": "display_data"
    }
   ],
   "source": [
    "df_filtered = dfs['metadata.parquet'][dfs['metadata.parquet']['dataset'] == 'London Smart Meter Data']\n",
    "\n",
    "unique_locations = df_filtered['location'].astype(str).unique()\n",
    "\n",
    "display(unique_locations)"
   ]
  },
  {
   "cell_type": "code",
   "execution_count": 99,
   "metadata": {},
   "outputs": [
    {
     "data": {
      "text/plain": [
       "array(['PT'], dtype=object)"
      ]
     },
     "metadata": {},
     "output_type": "display_data"
    }
   ],
   "source": [
    "df_filtered2 = dfs['metadata.parquet'][dfs['metadata.parquet']['dataset'] == 'Electricity Load Diagrams']\n",
    "\n",
    "unique_locations2 = df_filtered2['location'].astype(str).unique()\n",
    "\n",
    "display(unique_locations2)"
   ]
  },
  {
   "cell_type": "code",
   "execution_count": 100,
   "metadata": {},
   "outputs": [
    {
     "data": {
      "text/plain": [
       "array(['Orlando, Florida, USA', 'London, UK', 'Phoenix, Arizona, USA',\n",
       "       'Washington DC, USA', 'Oakland, California, USA', 'Cardiff, UK',\n",
       "       'Princeton, New Jersey, USA', 'Ottawa, CA', 'nan',\n",
       "       'Austin, Texas, USA', 'Groningen, NL',\n",
       "       'Minneapolis, Minnesota, USA', 'Ithaca, New York, USA'],\n",
       "      dtype=object)"
      ]
     },
     "metadata": {},
     "output_type": "display_data"
    }
   ],
   "source": [
    "df_filtered3 = dfs['metadata.parquet'][dfs['metadata.parquet']['dataset'] == 'Building Data Genome 2']\n",
    "\n",
    "unique_locations3 = df_filtered3['location'].astype(str).unique()\n",
    "\n",
    "display(unique_locations3)"
   ]
  },
  {
   "cell_type": "code",
   "execution_count": 109,
   "metadata": {},
   "outputs": [
    {
     "name": "stdout",
     "output_type": "stream",
     "text": [
      "London Smart Meter counts: 5566, Electricity Load Diagrams counts: 370, Building Data Genome 2 counts: 1636\n"
     ]
    }
   ],
   "source": [
    "print(f'London Smart Meter counts: {df_filtered.shape[0]}, Electricity Load Diagrams counts: {df_filtered2.shape[0]}, Building Data Genome 2 counts: {df_filtered3.shape[0]}')"
   ]
  },
  {
   "cell_type": "markdown",
   "metadata": {},
   "source": [
    "**Explore Demand Dataset**"
   ]
  },
  {
   "cell_type": "code",
   "execution_count": 94,
   "metadata": {},
   "outputs": [
    {
     "data": {
      "text/html": [
       "<div>\n",
       "<style scoped>\n",
       "    .dataframe tbody tr th:only-of-type {\n",
       "        vertical-align: middle;\n",
       "    }\n",
       "\n",
       "    .dataframe tbody tr th {\n",
       "        vertical-align: top;\n",
       "    }\n",
       "\n",
       "    .dataframe thead th {\n",
       "        text-align: right;\n",
       "    }\n",
       "</style>\n",
       "<table border=\"1\" class=\"dataframe\">\n",
       "  <thead>\n",
       "    <tr style=\"text-align: right;\">\n",
       "      <th></th>\n",
       "      <th>unique_id</th>\n",
       "      <th>timestamp</th>\n",
       "      <th>y</th>\n",
       "    </tr>\n",
       "  </thead>\n",
       "  <tbody>\n",
       "    <tr>\n",
       "      <th>0</th>\n",
       "      <td>a4077c2f0ac5f939</td>\n",
       "      <td>2012-10-12 00:30:00</td>\n",
       "      <td>0.0</td>\n",
       "    </tr>\n",
       "    <tr>\n",
       "      <th>1</th>\n",
       "      <td>a4077c2f0ac5f939</td>\n",
       "      <td>2012-10-12 01:00:00</td>\n",
       "      <td>0.0</td>\n",
       "    </tr>\n",
       "    <tr>\n",
       "      <th>2</th>\n",
       "      <td>a4077c2f0ac5f939</td>\n",
       "      <td>2012-10-12 01:30:00</td>\n",
       "      <td>0.0</td>\n",
       "    </tr>\n",
       "    <tr>\n",
       "      <th>3</th>\n",
       "      <td>a4077c2f0ac5f939</td>\n",
       "      <td>2012-10-12 02:00:00</td>\n",
       "      <td>0.0</td>\n",
       "    </tr>\n",
       "    <tr>\n",
       "      <th>4</th>\n",
       "      <td>a4077c2f0ac5f939</td>\n",
       "      <td>2012-10-12 02:30:00</td>\n",
       "      <td>0.0</td>\n",
       "    </tr>\n",
       "  </tbody>\n",
       "</table>\n",
       "</div>"
      ],
      "text/plain": [
       "          unique_id           timestamp    y\n",
       "0  a4077c2f0ac5f939 2012-10-12 00:30:00  0.0\n",
       "1  a4077c2f0ac5f939 2012-10-12 01:00:00  0.0\n",
       "2  a4077c2f0ac5f939 2012-10-12 01:30:00  0.0\n",
       "3  a4077c2f0ac5f939 2012-10-12 02:00:00  0.0\n",
       "4  a4077c2f0ac5f939 2012-10-12 02:30:00  0.0"
      ]
     },
     "metadata": {},
     "output_type": "display_data"
    }
   ],
   "source": [
    " display(dfs['demand.parquet'].head())"
   ]
  },
  {
   "cell_type": "code",
   "execution_count": 90,
   "metadata": {},
   "outputs": [
    {
     "data": {
      "text/plain": [
       "unique_id          category\n",
       "timestamp    datetime64[ns]\n",
       "y                   float64\n",
       "dtype: object"
      ]
     },
     "execution_count": 90,
     "metadata": {},
     "output_type": "execute_result"
    }
   ],
   "source": [
    "dfs['demand.parquet'].dtypes"
   ]
  },
  {
   "cell_type": "code",
   "execution_count": 103,
   "metadata": {},
   "outputs": [
    {
     "name": "stdout",
     "output_type": "stream",
     "text": [
      "start date: 2011-01-01 00:30:00, end date: 2017-12-31 23:00:00\n"
     ]
    }
   ],
   "source": [
    "start_date = dfs['demand.parquet']['timestamp'].min()\n",
    "end_date = dfs['demand.parquet']['timestamp'].max()\n",
    "\n",
    "print(f'start date: {start_date}, end date: {end_date}')"
   ]
  },
  {
   "cell_type": "code",
   "execution_count": 92,
   "metadata": {},
   "outputs": [
    {
     "name": "stdout",
     "output_type": "stream",
     "text": [
      "Missing values in each column:\n",
      " unique_id          0\n",
      "timestamp          0\n",
      "y            3086278\n",
      "dtype: int64\n"
     ]
    }
   ],
   "source": [
    "print(\"Missing values in each column:\\n\", dfs['demand.parquet'].isnull().sum()) #some null values in y column"
   ]
  },
  {
   "cell_type": "markdown",
   "metadata": {},
   "source": [
    "**Explore Weather Dataset**"
   ]
  },
  {
   "cell_type": "code",
   "execution_count": null,
   "metadata": {},
   "outputs": [
    {
     "data": {
      "text/html": [
       "<div>\n",
       "<style scoped>\n",
       "    .dataframe tbody tr th:only-of-type {\n",
       "        vertical-align: middle;\n",
       "    }\n",
       "\n",
       "    .dataframe tbody tr th {\n",
       "        vertical-align: top;\n",
       "    }\n",
       "\n",
       "    .dataframe thead th {\n",
       "        text-align: right;\n",
       "    }\n",
       "</style>\n",
       "<table border=\"1\" class=\"dataframe\">\n",
       "  <thead>\n",
       "    <tr style=\"text-align: right;\">\n",
       "      <th></th>\n",
       "      <th>timestamp</th>\n",
       "      <th>temperature_2m</th>\n",
       "      <th>relative_humidity_2m</th>\n",
       "      <th>dew_point_2m</th>\n",
       "      <th>apparent_temperature</th>\n",
       "      <th>precipitation</th>\n",
       "      <th>rain</th>\n",
       "      <th>snowfall</th>\n",
       "      <th>snow_depth</th>\n",
       "      <th>weather_code</th>\n",
       "      <th>...</th>\n",
       "      <th>soil_moisture_0_to_7cm</th>\n",
       "      <th>soil_moisture_7_to_28cm</th>\n",
       "      <th>is_day</th>\n",
       "      <th>sunshine_duration</th>\n",
       "      <th>shortwave_radiation</th>\n",
       "      <th>direct_radiation</th>\n",
       "      <th>diffuse_radiation</th>\n",
       "      <th>direct_normal_irradiance</th>\n",
       "      <th>terrestrial_radiation</th>\n",
       "      <th>location_id</th>\n",
       "    </tr>\n",
       "  </thead>\n",
       "  <tbody>\n",
       "    <tr>\n",
       "      <th>0</th>\n",
       "      <td>2011-01-01 00:00:00</td>\n",
       "      <td>4.1265</td>\n",
       "      <td>97.229843</td>\n",
       "      <td>3.7265</td>\n",
       "      <td>1.484439</td>\n",
       "      <td>0.0</td>\n",
       "      <td>0.0</td>\n",
       "      <td>0.0</td>\n",
       "      <td>0.0</td>\n",
       "      <td>3.0</td>\n",
       "      <td>...</td>\n",
       "      <td>0.393</td>\n",
       "      <td>0.393</td>\n",
       "      <td>0.0</td>\n",
       "      <td>0.0</td>\n",
       "      <td>0.0</td>\n",
       "      <td>0.0</td>\n",
       "      <td>0.0</td>\n",
       "      <td>0.0</td>\n",
       "      <td>0.0</td>\n",
       "      <td>gcpvj4cmfb0f</td>\n",
       "    </tr>\n",
       "    <tr>\n",
       "      <th>1</th>\n",
       "      <td>2011-01-01 01:00:00</td>\n",
       "      <td>4.1765</td>\n",
       "      <td>95.872025</td>\n",
       "      <td>3.5765</td>\n",
       "      <td>1.345968</td>\n",
       "      <td>0.0</td>\n",
       "      <td>0.0</td>\n",
       "      <td>0.0</td>\n",
       "      <td>0.0</td>\n",
       "      <td>3.0</td>\n",
       "      <td>...</td>\n",
       "      <td>0.393</td>\n",
       "      <td>0.393</td>\n",
       "      <td>0.0</td>\n",
       "      <td>0.0</td>\n",
       "      <td>0.0</td>\n",
       "      <td>0.0</td>\n",
       "      <td>0.0</td>\n",
       "      <td>0.0</td>\n",
       "      <td>0.0</td>\n",
       "      <td>gcpvj4cmfb0f</td>\n",
       "    </tr>\n",
       "    <tr>\n",
       "      <th>2</th>\n",
       "      <td>2011-01-01 02:00:00</td>\n",
       "      <td>3.9265</td>\n",
       "      <td>94.853752</td>\n",
       "      <td>3.1765</td>\n",
       "      <td>0.957560</td>\n",
       "      <td>0.0</td>\n",
       "      <td>0.0</td>\n",
       "      <td>0.0</td>\n",
       "      <td>0.0</td>\n",
       "      <td>3.0</td>\n",
       "      <td>...</td>\n",
       "      <td>0.393</td>\n",
       "      <td>0.393</td>\n",
       "      <td>0.0</td>\n",
       "      <td>0.0</td>\n",
       "      <td>0.0</td>\n",
       "      <td>0.0</td>\n",
       "      <td>0.0</td>\n",
       "      <td>0.0</td>\n",
       "      <td>0.0</td>\n",
       "      <td>gcpvj4cmfb0f</td>\n",
       "    </tr>\n",
       "    <tr>\n",
       "      <th>3</th>\n",
       "      <td>2011-01-01 03:00:00</td>\n",
       "      <td>3.6765</td>\n",
       "      <td>94.174149</td>\n",
       "      <td>2.8265</td>\n",
       "      <td>0.634312</td>\n",
       "      <td>0.0</td>\n",
       "      <td>0.0</td>\n",
       "      <td>0.0</td>\n",
       "      <td>0.0</td>\n",
       "      <td>3.0</td>\n",
       "      <td>...</td>\n",
       "      <td>0.393</td>\n",
       "      <td>0.393</td>\n",
       "      <td>0.0</td>\n",
       "      <td>0.0</td>\n",
       "      <td>0.0</td>\n",
       "      <td>0.0</td>\n",
       "      <td>0.0</td>\n",
       "      <td>0.0</td>\n",
       "      <td>0.0</td>\n",
       "      <td>gcpvj4cmfb0f</td>\n",
       "    </tr>\n",
       "    <tr>\n",
       "      <th>4</th>\n",
       "      <td>2011-01-01 04:00:00</td>\n",
       "      <td>3.3765</td>\n",
       "      <td>93.826447</td>\n",
       "      <td>2.4765</td>\n",
       "      <td>0.180433</td>\n",
       "      <td>0.0</td>\n",
       "      <td>0.0</td>\n",
       "      <td>0.0</td>\n",
       "      <td>0.0</td>\n",
       "      <td>3.0</td>\n",
       "      <td>...</td>\n",
       "      <td>0.392</td>\n",
       "      <td>0.392</td>\n",
       "      <td>0.0</td>\n",
       "      <td>0.0</td>\n",
       "      <td>0.0</td>\n",
       "      <td>0.0</td>\n",
       "      <td>0.0</td>\n",
       "      <td>0.0</td>\n",
       "      <td>0.0</td>\n",
       "      <td>gcpvj4cmfb0f</td>\n",
       "    </tr>\n",
       "  </tbody>\n",
       "</table>\n",
       "<p>5 rows × 33 columns</p>\n",
       "</div>"
      ],
      "text/plain": [
       "            timestamp  temperature_2m  relative_humidity_2m  dew_point_2m  \\\n",
       "0 2011-01-01 00:00:00          4.1265             97.229843        3.7265   \n",
       "1 2011-01-01 01:00:00          4.1765             95.872025        3.5765   \n",
       "2 2011-01-01 02:00:00          3.9265             94.853752        3.1765   \n",
       "3 2011-01-01 03:00:00          3.6765             94.174149        2.8265   \n",
       "4 2011-01-01 04:00:00          3.3765             93.826447        2.4765   \n",
       "\n",
       "   apparent_temperature  precipitation  rain  snowfall  snow_depth  \\\n",
       "0              1.484439            0.0   0.0       0.0         0.0   \n",
       "1              1.345968            0.0   0.0       0.0         0.0   \n",
       "2              0.957560            0.0   0.0       0.0         0.0   \n",
       "3              0.634312            0.0   0.0       0.0         0.0   \n",
       "4              0.180433            0.0   0.0       0.0         0.0   \n",
       "\n",
       "   weather_code  ...  soil_moisture_0_to_7cm  soil_moisture_7_to_28cm  is_day  \\\n",
       "0           3.0  ...                   0.393                    0.393     0.0   \n",
       "1           3.0  ...                   0.393                    0.393     0.0   \n",
       "2           3.0  ...                   0.393                    0.393     0.0   \n",
       "3           3.0  ...                   0.393                    0.393     0.0   \n",
       "4           3.0  ...                   0.392                    0.392     0.0   \n",
       "\n",
       "   sunshine_duration  shortwave_radiation  direct_radiation  \\\n",
       "0                0.0                  0.0               0.0   \n",
       "1                0.0                  0.0               0.0   \n",
       "2                0.0                  0.0               0.0   \n",
       "3                0.0                  0.0               0.0   \n",
       "4                0.0                  0.0               0.0   \n",
       "\n",
       "   diffuse_radiation  direct_normal_irradiance  terrestrial_radiation  \\\n",
       "0                0.0                       0.0                    0.0   \n",
       "1                0.0                       0.0                    0.0   \n",
       "2                0.0                       0.0                    0.0   \n",
       "3                0.0                       0.0                    0.0   \n",
       "4                0.0                       0.0                    0.0   \n",
       "\n",
       "    location_id  \n",
       "0  gcpvj4cmfb0f  \n",
       "1  gcpvj4cmfb0f  \n",
       "2  gcpvj4cmfb0f  \n",
       "3  gcpvj4cmfb0f  \n",
       "4  gcpvj4cmfb0f  \n",
       "\n",
       "[5 rows x 33 columns]"
      ]
     },
     "metadata": {},
     "output_type": "display_data"
    }
   ],
   "source": [
    " display(dfs['weather.parquet'].head())"
   ]
  },
  {
   "cell_type": "code",
   "execution_count": 91,
   "metadata": {},
   "outputs": [
    {
     "data": {
      "text/plain": [
       "timestamp                     datetime64[ns]\n",
       "temperature_2m                       float32\n",
       "relative_humidity_2m                 float32\n",
       "dew_point_2m                         float32\n",
       "apparent_temperature                 float32\n",
       "precipitation                        float32\n",
       "rain                                 float32\n",
       "snowfall                             float32\n",
       "snow_depth                           float32\n",
       "weather_code                         float32\n",
       "pressure_msl                         float32\n",
       "surface_pressure                     float32\n",
       "cloud_cover                          float32\n",
       "cloud_cover_low                      float32\n",
       "cloud_cover_mid                      float32\n",
       "cloud_cover_high                     float32\n",
       "et0_fao_evapotranspiration           float32\n",
       "vapour_pressure_deficit              float32\n",
       "wind_speed_10m                       float32\n",
       "wind_direction_10m                   float32\n",
       "wind_gusts_10m                       float32\n",
       "soil_temperature_0_to_7cm            float32\n",
       "soil_temperature_7_to_28cm           float32\n",
       "soil_moisture_0_to_7cm               float32\n",
       "soil_moisture_7_to_28cm              float32\n",
       "is_day                               float32\n",
       "sunshine_duration                    float32\n",
       "shortwave_radiation                  float32\n",
       "direct_radiation                     float32\n",
       "diffuse_radiation                    float32\n",
       "direct_normal_irradiance             float32\n",
       "terrestrial_radiation                float32\n",
       "location_id                           object\n",
       "dtype: object"
      ]
     },
     "execution_count": 91,
     "metadata": {},
     "output_type": "execute_result"
    }
   ],
   "source": [
    "dfs['weather.parquet'].dtypes"
   ]
  },
  {
   "cell_type": "code",
   "execution_count": 105,
   "metadata": {},
   "outputs": [
    {
     "name": "stdout",
     "output_type": "stream",
     "text": [
      "start date: 2011-01-01 00:00:00, end date: 2019-01-01 06:00:00\n"
     ]
    }
   ],
   "source": [
    "start_date = dfs['weather.parquet']['timestamp'].min()\n",
    "end_date = dfs['weather.parquet']['timestamp'].max()\n",
    "\n",
    "print(f'start date: {start_date}, end date: {end_date}')"
   ]
  }
 ],
 "metadata": {
  "kernelspec": {
   "display_name": "py39",
   "language": "python",
   "name": "python3"
  },
  "language_info": {
   "codemirror_mode": {
    "name": "ipython",
    "version": 3
   },
   "file_extension": ".py",
   "mimetype": "text/x-python",
   "name": "python",
   "nbconvert_exporter": "python",
   "pygments_lexer": "ipython3",
   "version": "3.9.13"
  }
 },
 "nbformat": 4,
 "nbformat_minor": 2
}
